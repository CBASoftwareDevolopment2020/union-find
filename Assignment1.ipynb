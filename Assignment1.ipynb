{
 "cells": [
  {
   "cell_type": "code",
   "execution_count": 1,
   "metadata": {},
   "outputs": [],
   "source": [
    "def read_file(path):\n",
    "    with open(path,'r') as file:\n",
    "        return file.readlines()"
   ]
  },
  {
   "cell_type": "markdown",
   "metadata": {},
   "source": [
    "# Quick Find"
   ]
  },
  {
   "cell_type": "code",
   "execution_count": 2,
   "metadata": {},
   "outputs": [
    {
     "name": "stdout",
     "output_type": "stream",
     "text": [
      "mediumUF: 3 trees, 48 ms\n"
     ]
    }
   ],
   "source": [
    "from Assignment1 import QuickFind\n",
    "import time\n",
    "\n",
    "paths = ['mediumUF']\n",
    "\n",
    "for path in paths:\n",
    "    lines = read_file(path + '.txt')\n",
    "\n",
    "    n, *rest = lines\n",
    "\n",
    "    qf = QuickFind(int(n))\n",
    "    \n",
    "    start = int(round(time.time()*1000))\n",
    "    \n",
    "    for line in rest:\n",
    "        p, q = [int(x) for x in line.split()]\n",
    "        qf.union(p,q)\n",
    "    end = int(round(time.time()*1000))\n",
    "    print(path + ':', str(qf.count()) + ' trees,', end-start,'ms')"
   ]
  },
  {
   "cell_type": "markdown",
   "metadata": {},
   "source": [
    "# Quick Union"
   ]
  },
  {
   "cell_type": "code",
   "execution_count": 3,
   "metadata": {},
   "outputs": [
    {
     "name": "stdout",
     "output_type": "stream",
     "text": [
      "mediumUF: 3 trees, 3 ms\n"
     ]
    }
   ],
   "source": [
    "from Assignment1 import QuickUnion\n",
    "import time\n",
    "\n",
    "paths = ['mediumUF']\n",
    "\n",
    "for path in paths:\n",
    "    lines = read_file(path + '.txt')\n",
    "\n",
    "    n, *rest = lines\n",
    "\n",
    "    qu = QuickUnion(int(n))\n",
    "    \n",
    "    start = int(round(time.time()*1000))\n",
    "    \n",
    "    for line in rest:\n",
    "        p, q = [int(x) for x in line.split()]\n",
    "        qu.union(p,q)\n",
    "    end = int(round(time.time()*1000))\n",
    "    print(path + ':', str(qu.count) + ' trees,', end-start,'ms')"
   ]
  },
  {
   "cell_type": "markdown",
   "metadata": {},
   "source": [
    "# Weighted Quick Union"
   ]
  },
  {
   "cell_type": "code",
   "execution_count": 4,
   "metadata": {},
   "outputs": [
    {
     "name": "stdout",
     "output_type": "stream",
     "text": [
      "mediumUF: 3 trees, 2 ms\n",
      "largeUF: 6 trees, 5241 ms\n"
     ]
    }
   ],
   "source": [
    "from Assignment1 import WeightedQuickUnion\n",
    "import time\n",
    "\n",
    "paths = ['mediumUF','largeUF']\n",
    "\n",
    "for path in paths:\n",
    "    lines = read_file(path + '.txt')\n",
    "\n",
    "    n, *rest = lines\n",
    "\n",
    "    wqu = WeightedQuickUnion(int(n))\n",
    "    \n",
    "    start = int(round(time.time()*1000))\n",
    "    \n",
    "    for line in rest:\n",
    "        p, q = [int(x) for x in line.split()]\n",
    "        wqu.union(p,q)\n",
    "    end = int(round(time.time()*1000))\n",
    "    print(path + ':', str(wqu.count) + ' trees,', end-start,'ms')"
   ]
  }
 ],
 "metadata": {
  "kernelspec": {
   "display_name": "Python 3",
   "language": "python",
   "name": "python3"
  },
  "language_info": {
   "codemirror_mode": {
    "name": "ipython",
    "version": 3
   },
   "file_extension": ".py",
   "mimetype": "text/x-python",
   "name": "python",
   "nbconvert_exporter": "python",
   "pygments_lexer": "ipython3",
   "version": "3.7.1"
  }
 },
 "nbformat": 4,
 "nbformat_minor": 4
}
